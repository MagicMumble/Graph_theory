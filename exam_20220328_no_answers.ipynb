{
 "cells": [
  {
   "cell_type": "markdown",
   "metadata": {},
   "source": [
    "# Graph Theory Questions for Jupyter-based Exam"
   ]
  },
  {
   "cell_type": "markdown",
   "metadata": {},
   "source": [
    "## Instructions\n",
    "1. You may use any source of information you can find, so long as you don't communicate with anyone else.\n",
    "2. You can put your answers in the marked cells; please first answer with markdown and then with code.\n",
    "3. You can split up your code answers into multiple cells if you like, but keep them in order for me to grade!\n",
    "4. You have 90 minutes total for the exam (unless you are eligible for \"Special Facilities\"), distribute it wisely amongst questions.\n",
    "5. Remember you can look up the documentation of any function or object by appending \"?\" (question mark) to it without calling it with \"()\"; this is the same documentation as you'd look up on the internet! See an example in the next cell.\n",
    "6. Your final grade will be `score / 70 * 9 + 1`\n"
   ]
  },
  {
   "cell_type": "code",
   "execution_count": null,
   "metadata": {},
   "outputs": [],
   "source": [
    "nx.Graph?"
   ]
  },
  {
   "cell_type": "markdown",
   "metadata": {},
   "source": [
    "# -- BEGIN EXAM --\n",
    "Good luck!\n",
    "*Don't forget to run the global imports defined in the next cell!!!*"
   ]
  },
  {
   "cell_type": "code",
   "execution_count": 2,
   "metadata": {},
   "outputs": [],
   "source": [
    "# Global definitions you will need are here; RUN THIS CELL\n",
    "# Define any extra global modules you want to add yourself here as well!\n",
    "# As well as any extra helper functions you want to use in all exercises below.\n",
    "import networkx as nx\n",
    "import numpy as np\n",
    "import json\n",
    "import matplotlib.pyplot as plt\n",
    "%matplotlib inline"
   ]
  },
  {
   "cell_type": "markdown",
   "metadata": {},
   "source": [
    "## Question 1 (7pt)\n",
    "\n",
    "1. What is the definition of a \"cycle\"?\n",
    "2. Given a simple, undirected graph without self-loops, what is the size of the smallest cycle possible?\n",
    "3. Given a simple, undirected graph *with* self-loops, what is the size of the smallest cycle possible?\n",
    "4. Given a simple, directed graph without self-loops, what is the size of the smallest cycle possible?\n",
    "5. Given a simple, undirected bipartite graph, what is the size of the smallest cycle possible?\n",
    "6. Given a complete graph, what is the size of the smallest cycle?\n",
    "7. Explain what the following means: $N(v) = {w \\in V(G) | v \\neq w, \\exists e \\in E(G) : e = (w, v)}$"
   ]
  },
  {
   "cell_type": "markdown",
   "metadata": {},
   "source": [
    "### Text Markdown answers to question 1\n"
   ]
  },
  {
   "cell_type": "code",
   "execution_count": null,
   "metadata": {},
   "outputs": [],
   "source": [
    "## Code Answers to question 1\n",
    "#1. it is a non-empty trail in which only the first and last vertices are equal\n",
    "#2.3\n",
    "#3.1\n",
    "#4.2\n",
    "#5.4\n",
    "#6.3\n",
    "#7. definition of the adjacent node of the vertex (neighbor)\n"
   ]
  },
  {
   "cell_type": "markdown",
   "metadata": {},
   "source": [
    "## Question 2 (21pt)\n",
    "A citation graph is a DiGraph consisting of papers as nodes, and citations as edges. An edge will point from paper A to paper B iff paper A cites paper B.\n",
    "\n",
    "An author's h-index is defined as the maximum value of $h$ such that the given author/journal has published at least $h$ papers that have each been cited at least $h$ times.\n",
    "\n",
    "1. Read in the DiGraph in the file `citation_graph.json`. It is in node-link format. Nodes represent papers. Each node (paper) has an `'AuthIds'` attribute, which is a list of that paper's authors. If you are unable to read in the graph, use the following bit of code:\n",
    "```python\n",
    "import pickle\n",
    "with open('citation_graph.pickle', 'rb') as jar:\n",
    "        citation_graph = pickle.load(jar) \n",
    "```\n",
    "2. Is this DiGraph a DAG, and why should/shouldn't it be?\n",
    "3. What is the most cited paper?\n",
    "4. What is the most cited author?\n",
    "3. Write a function that calculates the h-index for authors. Which author has the highest h-index?"
   ]
  },
  {
   "cell_type": "markdown",
   "metadata": {},
   "source": [
    "### Text Markdown Answers to Question 2\n"
   ]
  },
  {
   "cell_type": "code",
   "execution_count": 55,
   "metadata": {},
   "outputs": [],
   "source": [
    "## Code Answers to Question 2\n",
    "from networkx.readwrite import json_graph\n",
    "\n",
    "def read_json_file(filename):\n",
    "    with open(filename) as f:\n",
    "        js_graph = json.load(f)\n",
    "    return json_graph.node_link_graph(js_graph)\n",
    "\n",
    "G = read_json_file('citation_graph.json')\n"
   ]
  },
  {
   "cell_type": "code",
   "execution_count": 78,
   "metadata": {},
   "outputs": [
    {
     "name": "stdout",
     "output_type": "stream",
     "text": [
      "False\n",
      "most citated paper ('13DFA56F', 309)\n",
      "0.0\n"
     ]
    }
   ],
   "source": [
    "# print(G.nodes(data=True))\n",
    "print(nx.is_directed_acyclic_graph(G))\n",
    "# is not dag and it shouldn't\n",
    "indegrees = sorted(list(G.in_degree(G.nodes)), key=lambda a: a[1], reverse=True)\n",
    "# print(G.nodes['0.0'])\n",
    "# print(G.nodes['5EFE608F'])\n",
    "# print(G.nodes['5EFE608F']['AuthIds'])\n",
    "print('most citated paper', indegrees[0])\n",
    "\n",
    "authors = {}\n",
    "#init\n",
    "for node in G.nodes:\n",
    "    for a in G.nodes[node]['AuthIds']:\n",
    "        authors[a] = 0\n",
    "        \n",
    "\n",
    "for node in G.nodes:\n",
    "    indegree=G.in_degree(node)\n",
    "    for a in G.nodes[node]['AuthIds']:\n",
    "        authors[a]+=1\n",
    "        \n",
    "# print(authors)\n",
    "res = sorted(authors, key=authors.get, reverse=True)\n",
    "print('most citated author', res[0])"
   ]
  },
  {
   "cell_type": "markdown",
   "metadata": {},
   "source": [
    "## Question 3 (21pt)\n",
    "For the book Les Miserable someone counted how often pairs of characters appeared in the same scene. This can of course be represented as a graph where nodes are characters, and there is an edge between 2 characters if they appear in the same scene. In addition, the edges can be weighted by how many scenes they share.\n",
    "\n",
    "We'll investigate who the central characters in this story are. One measure you could use is the *betweenness centrality*. This is defined as follows:\n",
    "> Let $G$ be a simple, connected graph. Let $S(x, y)$ be the set of shortest paths between two vertices $x, y \\in V(G)$, and $S(x, u, y) \\subseteq S(x,y)$ the ones that pass through node $u \\in V(G)$. The *betweenness centrality* $c_B(u)$ of node $u$ is defined as: $$c_B(u) = \\sum_{x \\neq y} \\frac{|S(x, u, y)|}{|S(x, y)|}$$\n",
    "\n",
    "1. Explain in your own words what the betweenness centrality means.\n",
    "2. What other measures, besides the betweenness centrality, could you use to find the main character(s)?\n",
    "3. Load the graph in the file `les_miserables.graphml`. The file is in GraphML format. If you are unable to read in the file, use the following snippet of code: \n",
    "```python\n",
    "graph = nx.les_miserables_graph()\n",
    "```\n",
    "4. Find the 5 most important characters. Use the betweenness centrality (use an existing implementation), and at least one other measure you can think of. Do your chosen metrics agree with eachother? Why (not)?"
   ]
  },
  {
   "cell_type": "markdown",
   "metadata": {},
   "source": [
    "### Text Markdown Answers to Question 3\n"
   ]
  },
  {
   "cell_type": "code",
   "execution_count": 44,
   "metadata": {},
   "outputs": [
    {
     "name": "stdout",
     "output_type": "stream",
     "text": [
      "betweenness_centrality ['Valjean', 'Myriel', 'Gavroche', 'Marius', 'Fantine']\n",
      "Valjean 1624.4688004333127\n",
      "Myriel 504.0\n",
      "Gavroche 470.57063191366586\n",
      "Marius 376.2925925725461\n",
      "Fantine 369.4869418163536\n",
      "closeness_centrality ['Gavroche', 'Valjean', 'Montparnasse', 'Javert', 'Gueulemer']\n",
      "manual_centrality ['Valjean', 'Myriel', 'Gavroche', 'Marius', 'Fantine']\n"
     ]
    }
   ],
   "source": [
    "## Code answers to Question 3\n",
    "#To calculate betweenness centrality, you take every pair of the network and count how many times a node \n",
    "# can interrupt the shortest paths (geodesic distance) between the two nodes of the pair. It assumes that \n",
    "# important nodes connect other nodes. \n",
    "# I could use the closeness centrality or find the centrality of the nodes using the formula 1/eccentricity\n",
    "from networkx.algorithms.distance_measures import center\n",
    "import numpy as np\n",
    "graph = nx.read_graphml('les_miserables(1).graphml')\n",
    "# print(graph.nodes)\n",
    "\n",
    "bet_centrality = nx.betweenness_centrality(graph, normalized = False, \n",
    "                                              endpoints = False)\n",
    "print(\"betweenness_centrality\", sorted(bet_centrality, key=bet_centrality.get, reverse=True)[:5])\n",
    "\n",
    "for w in sorted(bet_centrality, key=bet_centrality.get, reverse=True)[:5]:\n",
    "    print(w, bet_centrality[w])\n",
    "    \n",
    "close_centrality = nx.closeness_centrality(graph, distance='weight')\n",
    "print(\"closeness_centrality\", sorted(close_centrality, key=close_centrality.get, reverse=True)[:5])\n",
    "\n",
    "cetralities = {}\n",
    "for n in graph.nodes:\n",
    "    cetralities[n] = 1/nx.eccentricity(graph, n, weight='weight')\n",
    "manual_centrality = sorted(cetralities, key=bet_centrality.get, reverse=True)[:5]\n",
    "print(\"manual_centrality\", manual_centrality)\n",
    "\n",
    "#betweenness_centrality agrees with the manual centrality (calculated by formula 1/eccentricity), but does not agree\n",
    "# with the closeness_centrality. Why? betweenness_centrality does not use weights, closeness_centrality uses.\n",
    "# Closeness centrality is a measure of the average shortest distance from each vertex to each other vertex."
   ]
  },
  {
   "cell_type": "markdown",
   "metadata": {},
   "source": [
    "## Question 4 (21pt)\n",
    "Given a number of nodes you can create a random graph by randomly adding edges between those nodes. This is also known as an Erdős–Rényi random graph, or gnp graph. You can generate such a graph using the networkx function `nx.fast_gnp_random_graph`. \n",
    "\n",
    "We will investigate the following statement: Almost every graph in $G(n, \\frac{2 ln(n)}{n})$ is connected, where $n$ is the number of nodes, and $\\frac{2ln(n)}{n}$ the chance that any 2 nodes are connected.\n",
    "\n",
    "1. What does it mean for a graph to be \"connected\"?\n",
    "2. Take `n = 100` and `p = 0.02`. Generate the corresponding gnp graph. What is the size of largest connected component in that graph?\n",
    "3. Given a fixed value for n (e.g. 100), plot the size of the largest connected component as a function of p. Do you find the given statement to be correct?\n",
    "\n",
    "Hint: use something like `plt.plot(p_values, sizes)` to make the plot."
   ]
  },
  {
   "cell_type": "markdown",
   "metadata": {},
   "source": [
    "### Text Markdown Answers to Question 4\n"
   ]
  },
  {
   "cell_type": "code",
   "execution_count": 9,
   "metadata": {},
   "outputs": [
    {
     "name": "stdout",
     "output_type": "stream",
     "text": [
      "False\n",
      "77\n"
     ]
    }
   ],
   "source": [
    "## Code answers to Question 4\n",
    "# connected graph - a graph where there is a path from any point to any other point in the graph\n",
    "g = nx.fast_gnp_random_graph(100, 0.02)\n",
    "print(nx.is_connected(g))\n",
    "lens = [len(c) for c in sorted(nx.connected_components(g), key=len, reverse=True)]\n",
    "print(lens[0])"
   ]
  },
  {
   "cell_type": "code",
   "execution_count": 28,
   "metadata": {},
   "outputs": [
    {
     "name": "stdout",
     "output_type": "stream",
     "text": [
      "0.09210340371976183\n",
      "False\n",
      "False\n",
      "False\n",
      "False\n",
      "False\n",
      "True\n",
      "True\n",
      "True\n",
      "False\n",
      "True\n",
      "True\n",
      "True\n",
      "True\n",
      "[0.01 0.02 0.03 0.04 0.05 0.06 0.07 0.08 0.09 0.1  0.11 0.12 0.13]\n"
     ]
    },
    {
     "data": {
      "image/png": "[encoded data removed]",
      "text/plain": [
       "<Figure size 640x480 with 1 Axes>"
      ]
     },
     "metadata": {},
     "output_type": "display_data"
    }
   ],
   "source": [
    "import math\n",
    "n = 100 #const\n",
    "def build_graph(p):\n",
    "    g = nx.fast_gnp_random_graph(n, p)\n",
    "    print(nx.is_connected(g))\n",
    "    return len(sorted(nx.connected_components(g), key=len, reverse=True)[0])\n",
    "\n",
    "l = (2*math.log(n))/n\n",
    "print(l)\n",
    "# start, stop, step\n",
    "p_values = np.arange(0.01, l*1.5, 0.01)\n",
    "sizes = [build_graph(p) for p in p_values]\n",
    "\n",
    "plt.plot(p_values, sizes)\n",
    "print(p_values)\n",
    "\n",
    "# i do agree with the statement\n"
   ]
  },
  {
   "cell_type": "markdown",
   "metadata": {},
   "source": [
    "# --- END OF EXAM ---\n",
    "Congrats, you made it to the end of the exam! Don't forget to rename your ipynb to \"GTExam_YOUR_NAME_STUDENTNR.ipynb\" and hand it in via BlackBoard submit!"
   ]
  },
  {
   "cell_type": "code",
   "execution_count": null,
   "metadata": {},
   "outputs": [],
   "source": []
  },
  {
   "cell_type": "code",
   "execution_count": null,
   "metadata": {},
   "outputs": [],
   "source": []
  },
  {
   "cell_type": "code",
   "execution_count": null,
   "metadata": {},
   "outputs": [],
   "source": []
  }
 ],
 "metadata": {
  "kernelspec": {
   "display_name": "Python 3 (ipykernel)",
   "language": "python",
   "name": "python3"
  },
  "language_info": {
   "codemirror_mode": {
    "name": "ipython",
    "version": 3
   },
   "file_extension": ".py",
   "mimetype": "text/x-python",
   "name": "python",
   "nbconvert_exporter": "python",
   "pygments_lexer": "ipython3",
   "version": "3.10.7"
  }
 },
 "nbformat": 4,
 "nbformat_minor": 4
}
